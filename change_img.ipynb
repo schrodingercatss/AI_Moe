{
 "cells": [
  {
   "cell_type": "code",
   "execution_count": 17,
   "metadata": {},
   "outputs": [],
   "source": [
    "import cv2\n",
    "import numpy as np\n",
    " \n",
    " \n",
    "def dodgeNaive(image, mask):\n",
    "    # determine the shape of the input image\n",
    "    width, height = image.shape[:2]\n",
    " \n",
    "    # prepare output argument with same size as image\n",
    "    blend = np.zeros((width, height), np.uint8)\n",
    " \n",
    "    for col in range(width):\n",
    "        for row in range(height):\n",
    "            # do for every pixel\n",
    "            if mask[col, row] == 255:\n",
    "                # avoid division by zero\n",
    "                blend[col, row] = 255\n",
    "            else:\n",
    "                # shift image pixel value by 8 bits\n",
    "                # divide by the inverse of the mask\n",
    "                tmp = (image[col, row] << 8) / (255 - mask)\n",
    "                # print('tmp={}'.format(tmp.shape))\n",
    "                # make sure resulting value stays within bounds\n",
    "                if tmp.any() > 255:\n",
    "                    tmp = 255\n",
    "                    blend[col, row] = tmp\n",
    " \n",
    "    return blend\n",
    " \n",
    " \n",
    "def dodgeV2(image, mask):\n",
    "    return cv2.divide(image, 255 - mask, scale=256)\n",
    " \n",
    " \n",
    "def burnV2(image, mask):\n",
    "    return 255 - cv2.divide(255 - image, 255 - mask, scale=256)\n",
    " \n",
    " \n",
    "def rgb_to_sketch(src_image_name, dst_image_name):\n",
    "    img_rgb = cv2.imread(src_image_name)\n",
    "    img_gray = cv2.cvtColor(img_rgb, cv2.COLOR_BGR2GRAY)\n",
    "    # 读取图片时直接转换操作\n",
    "    # img_gray = cv2.imread('example.jpg', cv2.IMREAD_GRAYSCALE)\n",
    " \n",
    "    img_gray_inv = 255 - img_gray\n",
    "    img_blur = cv2.GaussianBlur(img_gray_inv, ksize=(21, 21),\n",
    "                                sigmaX=0, sigmaY=0)\n",
    "    img_blend = dodgeV2(img_gray, img_blur)\n",
    " \n",
    "#     cv2.imshow('original', img_rgb)\n",
    "#     cv2.imshow('gray', img_gray)\n",
    "#     cv2.imshow('gray_inv', img_gray_inv)\n",
    "#     cv2.imshow('gray_blur', img_blur)\n",
    "#     cv2.imshow(\"pencil sketch\", img_blend)\n",
    "#     cv2.waitKey(0)\n",
    "#     cv2.destroyAllWindows()\n",
    "    cv2.imwrite(dst_image_name, img_blend)"
   ]
  },
  {
   "cell_type": "code",
   "execution_count": 5,
   "metadata": {},
   "outputs": [],
   "source": [
    "src_image_name = 'f:\\\\3.png'\n",
    "dst_image_name = 'f:\\\\sketch_example.jpg'\n",
    "rgb_to_sketch(src_image_name, dst_image_name)"
   ]
  },
  {
   "cell_type": "code",
   "execution_count": 23,
   "metadata": {},
   "outputs": [],
   "source": [
    "import os\n",
    "import glob\n",
    "rootdir = r\"f:/\" # 图片文件夹的路径\n",
    "target = r\"f:/new/\" # 转成线稿后的图片的路径，该文件需要提前创建\n",
    "list = os.listdir(rootdir)\n",
    "imgType_list = {'jpg','bmp','png','jpeg','rgb','tif'}\n",
    "\n",
    "for i in range(len(list)):\n",
    "    path = os.path.join(rootdir, list[i])\n",
    "    if(path[-3:] in imgType_list):\n",
    "        target_name =  target + str(i * i) + \".jpg\" \n",
    "        rgb_to_sketch(path, target_name)"
   ]
  }
 ],
 "metadata": {
  "kernelspec": {
   "display_name": "Python 3",
   "language": "python",
   "name": "python3"
  },
  "language_info": {
   "codemirror_mode": {
    "name": "ipython",
    "version": 3
   },
   "file_extension": ".py",
   "mimetype": "text/x-python",
   "name": "python",
   "nbconvert_exporter": "python",
   "pygments_lexer": "ipython3",
   "version": "3.7.3"
  }
 },
 "nbformat": 4,
 "nbformat_minor": 2
}
